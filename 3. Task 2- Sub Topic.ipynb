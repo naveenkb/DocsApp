{
 "cells": [
  {
   "cell_type": "code",
   "execution_count": 9,
   "metadata": {
    "ExecuteTime": {
     "end_time": "2019-08-22T18:55:16.014829Z",
     "start_time": "2019-08-22T18:55:16.006652Z"
    }
   },
   "outputs": [],
   "source": [
    "import pandas as pd\n",
    "import numpy as np\n",
    "import gensim"
   ]
  },
  {
   "cell_type": "code",
   "execution_count": 18,
   "metadata": {
    "ExecuteTime": {
     "end_time": "2019-08-22T19:01:33.080665Z",
     "start_time": "2019-08-22T19:01:33.076177Z"
    }
   },
   "outputs": [],
   "source": [
    "import nltk\n",
    "from nltk.tokenize import sent_tokenize, word_tokenize\n",
    "from nltk.corpus import stopwords\n",
    "\n",
    "from gensim.models import CoherenceModel\n",
    "import gensim.corpora as corpora\n",
    "\n",
    "import joblib\n",
    "\n",
    "from sklearn.cluster import KMeans"
   ]
  },
  {
   "cell_type": "code",
   "execution_count": 33,
   "metadata": {
    "ExecuteTime": {
     "end_time": "2019-08-22T19:05:42.183934Z",
     "start_time": "2019-08-22T19:05:41.175515Z"
    }
   },
   "outputs": [],
   "source": [
    "data = joblib.load('../data/cleaned_data')"
   ]
  },
  {
   "cell_type": "code",
   "execution_count": 3,
   "metadata": {
    "ExecuteTime": {
     "end_time": "2019-08-22T18:47:31.387234Z",
     "start_time": "2019-08-22T18:42:11.694910Z"
    }
   },
   "outputs": [],
   "source": [
    "#pre-trained word2vec model\n",
    "w2v_model = gensim.models.KeyedVectors.load_word2vec_format('../../misc/GoogleNews-vectors-negative300.bin.gz', binary=True)"
   ]
  },
  {
   "cell_type": "code",
   "execution_count": 15,
   "metadata": {
    "ExecuteTime": {
     "end_time": "2019-08-22T18:56:11.034344Z",
     "start_time": "2019-08-22T18:56:11.027582Z"
    }
   },
   "outputs": [],
   "source": [
    "stop_words = stopwords.words('english')"
   ]
  },
  {
   "cell_type": "code",
   "execution_count": 21,
   "metadata": {
    "ExecuteTime": {
     "end_time": "2019-08-22T19:02:03.150131Z",
     "start_time": "2019-08-22T19:02:03.133902Z"
    }
   },
   "outputs": [
    {
     "data": {
      "text/html": [
       "<div>\n",
       "<style scoped>\n",
       "    .dataframe tbody tr th:only-of-type {\n",
       "        vertical-align: middle;\n",
       "    }\n",
       "\n",
       "    .dataframe tbody tr th {\n",
       "        vertical-align: top;\n",
       "    }\n",
       "\n",
       "    .dataframe thead th {\n",
       "        text-align: right;\n",
       "    }\n",
       "</style>\n",
       "<table border=\"1\" class=\"dataframe\">\n",
       "  <thead>\n",
       "    <tr style=\"text-align: right;\">\n",
       "      <th></th>\n",
       "      <th>id</th>\n",
       "      <th>datetime</th>\n",
       "      <th>text</th>\n",
       "      <th>new_text</th>\n",
       "    </tr>\n",
       "  </thead>\n",
       "  <tbody>\n",
       "    <tr>\n",
       "      <th>0</th>\n",
       "      <td>548662191340421120</td>\n",
       "      <td>Sat Dec 27 02:10:34 +0000 2014</td>\n",
       "      <td>risks in using social media to spot signs of m...</td>\n",
       "      <td>['risk', 'using', 'social', 'medium', 'spot', ...</td>\n",
       "    </tr>\n",
       "    <tr>\n",
       "      <th>1</th>\n",
       "      <td>548579831169163265</td>\n",
       "      <td>Fri Dec 26 20:43:18 +0000 2014</td>\n",
       "      <td>paulaspan the most effective nationwide diabet...</td>\n",
       "      <td>['paulaspan', 'effective', 'nationwide', 'diab...</td>\n",
       "    </tr>\n",
       "    <tr>\n",
       "      <th>2</th>\n",
       "      <td>548579045269852161</td>\n",
       "      <td>Fri Dec 26 20:40:11 +0000 2014</td>\n",
       "      <td>the new old age blog diabetes prevention that ...</td>\n",
       "      <td>['new', 'old', 'age', 'blog', 'diabetes', 'pre...</td>\n",
       "    </tr>\n",
       "    <tr>\n",
       "      <th>3</th>\n",
       "      <td>548444679529041920</td>\n",
       "      <td>Fri Dec 26 11:46:15 +0000 2014</td>\n",
       "      <td>well comfort casseroles for winter dinners</td>\n",
       "      <td>['well', 'comfort', 'casserole', 'winter', 'di...</td>\n",
       "    </tr>\n",
       "    <tr>\n",
       "      <th>4</th>\n",
       "      <td>548311901227474944</td>\n",
       "      <td>Fri Dec 26 02:58:39 +0000 2014</td>\n",
       "      <td>highlevel knowledge before veterans affairs sc...</td>\n",
       "      <td>['highlevel', 'knowledge', 'veteran', 'affair'...</td>\n",
       "    </tr>\n",
       "  </tbody>\n",
       "</table>\n",
       "</div>"
      ],
      "text/plain": [
       "                   id                        datetime  \\\n",
       "0  548662191340421120  Sat Dec 27 02:10:34 +0000 2014   \n",
       "1  548579831169163265  Fri Dec 26 20:43:18 +0000 2014   \n",
       "2  548579045269852161  Fri Dec 26 20:40:11 +0000 2014   \n",
       "3  548444679529041920  Fri Dec 26 11:46:15 +0000 2014   \n",
       "4  548311901227474944  Fri Dec 26 02:58:39 +0000 2014   \n",
       "\n",
       "                                                text  \\\n",
       "0  risks in using social media to spot signs of m...   \n",
       "1  paulaspan the most effective nationwide diabet...   \n",
       "2  the new old age blog diabetes prevention that ...   \n",
       "3        well comfort casseroles for winter dinners    \n",
       "4  highlevel knowledge before veterans affairs sc...   \n",
       "\n",
       "                                            new_text  \n",
       "0  ['risk', 'using', 'social', 'medium', 'spot', ...  \n",
       "1  ['paulaspan', 'effective', 'nationwide', 'diab...  \n",
       "2  ['new', 'old', 'age', 'blog', 'diabetes', 'pre...  \n",
       "3  ['well', 'comfort', 'casserole', 'winter', 'di...  \n",
       "4  ['highlevel', 'knowledge', 'veteran', 'affair'...  "
      ]
     },
     "execution_count": 21,
     "metadata": {},
     "output_type": "execute_result"
    }
   ],
   "source": [
    "data.head()"
   ]
  },
  {
   "cell_type": "markdown",
   "metadata": {},
   "source": [
    "##### Main topics"
   ]
  },
  {
   "cell_type": "code",
   "execution_count": 51,
   "metadata": {
    "ExecuteTime": {
     "end_time": "2019-08-22T19:14:29.343004Z",
     "start_time": "2019-08-22T19:14:29.201634Z"
    }
   },
   "outputs": [],
   "source": [
    "from sklearn.feature_extraction.text import CountVectorizer\n",
    "\n",
    "from sklearn.decomposition import LatentDirichletAllocation as LDA"
   ]
  },
  {
   "cell_type": "code",
   "execution_count": 55,
   "metadata": {
    "ExecuteTime": {
     "end_time": "2019-08-22T19:15:12.780673Z",
     "start_time": "2019-08-22T19:15:12.774744Z"
    }
   },
   "outputs": [],
   "source": [
    "count_vec = CountVectorizer(stop_words='english', lowercase=False)"
   ]
  },
  {
   "cell_type": "code",
   "execution_count": 62,
   "metadata": {
    "ExecuteTime": {
     "end_time": "2019-08-22T19:17:23.670236Z",
     "start_time": "2019-08-22T19:17:23.516968Z"
    }
   },
   "outputs": [],
   "source": [
    "tweets = data['new_text'].apply(lambda x: ' '.join(x))"
   ]
  },
  {
   "cell_type": "code",
   "execution_count": 64,
   "metadata": {
    "ExecuteTime": {
     "end_time": "2019-08-22T19:17:39.334141Z",
     "start_time": "2019-08-22T19:17:38.136707Z"
    }
   },
   "outputs": [],
   "source": [
    "count_data = count_vec.fit_transform(tweets)"
   ]
  },
  {
   "cell_type": "code",
   "execution_count": 65,
   "metadata": {
    "ExecuteTime": {
     "end_time": "2019-08-22T19:21:54.539689Z",
     "start_time": "2019-08-22T19:18:11.967614Z"
    }
   },
   "outputs": [
    {
     "data": {
      "text/plain": [
       "LatentDirichletAllocation(batch_size=128, doc_topic_prior=None,\n",
       "                          evaluate_every=-1, learning_decay=0.7,\n",
       "                          learning_method='batch', learning_offset=10.0,\n",
       "                          max_doc_update_iter=100, max_iter=10,\n",
       "                          mean_change_tol=0.001, n_components=12, n_jobs=-1,\n",
       "                          perp_tol=0.1, random_state=None,\n",
       "                          topic_word_prior=None, total_samples=1000000.0,\n",
       "                          verbose=0)"
      ]
     },
     "execution_count": 65,
     "metadata": {},
     "output_type": "execute_result"
    }
   ],
   "source": [
    "lda = LDA(n_components=12, n_jobs=-1)\n",
    "lda.fit(count_data)"
   ]
  },
  {
   "cell_type": "code",
   "execution_count": 66,
   "metadata": {
    "ExecuteTime": {
     "end_time": "2019-08-22T19:22:01.460648Z",
     "start_time": "2019-08-22T19:22:01.456337Z"
    }
   },
   "outputs": [
    {
     "data": {
      "text/plain": [
       "<62817x32377 sparse matrix of type '<class 'numpy.int64'>'\n",
       "\twith 447437 stored elements in Compressed Sparse Row format>"
      ]
     },
     "execution_count": 66,
     "metadata": {},
     "output_type": "execute_result"
    }
   ],
   "source": [
    "count_data"
   ]
  },
  {
   "cell_type": "code",
   "execution_count": 102,
   "metadata": {
    "ExecuteTime": {
     "end_time": "2019-08-22T19:37:03.251779Z",
     "start_time": "2019-08-22T19:37:03.117850Z"
    }
   },
   "outputs": [],
   "source": [
    "words = count_vec.get_feature_names()"
   ]
  },
  {
   "cell_type": "code",
   "execution_count": 72,
   "metadata": {
    "ExecuteTime": {
     "end_time": "2019-08-22T19:25:17.322140Z",
     "start_time": "2019-08-22T19:25:17.317537Z"
    }
   },
   "outputs": [],
   "source": [
    "def print_topics(model, count_vectorizer, n_top_words):\n",
    "    words = count_vectorizer.get_feature_names()\n",
    "    for topic_idx, topic in enumerate(model.components_):\n",
    "        print(\"\\nTopic #%d:\" % topic_idx)\n",
    "        print(\" \".join([words[i] for i in topic.argsort()[:-n_top_words - 1:-1]]))"
   ]
  },
  {
   "cell_type": "code",
   "execution_count": 73,
   "metadata": {
    "ExecuteTime": {
     "end_time": "2019-08-22T19:25:33.293593Z",
     "start_time": "2019-08-22T19:25:33.189731Z"
    }
   },
   "outputs": [
    {
     "name": "stdout",
     "output_type": "stream",
     "text": [
      "\n",
      "Topic #0:\n",
      "drug heart fda disease new treatment study cancer test question\n",
      "\n",
      "Topic #1:\n",
      "weight way help loss tip lose brain workout make exercise\n",
      "\n",
      "Topic #2:\n",
      "food healthy recipe today nh try way make calorie day\n",
      "\n",
      "Topic #3:\n",
      "flu new virus research safety bird outbreak rule deadly scientist\n",
      "\n",
      "Topic #4:\n",
      "ebola leone sierra year trial case say tell rise help\n",
      "\n",
      "Topic #5:\n",
      "ebola health care hospital say patient new mental worker africa\n",
      "\n",
      "Topic #6:\n",
      "day school say work baby wont video sugar make expert\n",
      "\n",
      "Topic #7:\n",
      "study risk kid child say teen linked brain help parent\n",
      "\n",
      "Topic #8:\n",
      "patient healthtalk doctor help ebola diabetes dy win hospital everydayhealth\n",
      "\n",
      "Topic #9:\n",
      "cancer woman new age breast old say study blog court\n",
      "\n",
      "Topic #10:\n",
      "health nh insurance obamacare law care report state exchange new\n",
      "\n",
      "Topic #11:\n",
      "goodhealth cynthiasass know amp like food change thing health look\n"
     ]
    }
   ],
   "source": [
    "print_topics(lda, count_vec, 10)"
   ]
  },
  {
   "cell_type": "markdown",
   "metadata": {
    "ExecuteTime": {
     "end_time": "2019-08-22T19:26:11.285011Z",
     "start_time": "2019-08-22T19:26:11.280782Z"
    }
   },
   "source": [
    "Let's pick topic 5 in above result and try to get sub topics"
   ]
  },
  {
   "cell_type": "code",
   "execution_count": 93,
   "metadata": {
    "ExecuteTime": {
     "end_time": "2019-08-22T19:32:52.548238Z",
     "start_time": "2019-08-22T19:32:52.543264Z"
    }
   },
   "outputs": [],
   "source": [
    "topic5 = lda.components_[5].copy()"
   ]
  },
  {
   "cell_type": "code",
   "execution_count": 94,
   "metadata": {
    "ExecuteTime": {
     "end_time": "2019-08-22T19:32:57.997998Z",
     "start_time": "2019-08-22T19:32:57.987735Z"
    }
   },
   "outputs": [],
   "source": [
    "topic5.sort()"
   ]
  },
  {
   "cell_type": "markdown",
   "metadata": {},
   "source": [
    "Top 700 words explain more than 75% of the contribution to the topic"
   ]
  },
  {
   "cell_type": "code",
   "execution_count": 95,
   "metadata": {
    "ExecuteTime": {
     "end_time": "2019-08-22T19:33:14.275615Z",
     "start_time": "2019-08-22T19:33:14.268991Z"
    }
   },
   "outputs": [
    {
     "data": {
      "text/plain": [
       "75.58973225600249"
      ]
     },
     "execution_count": 95,
     "metadata": {},
     "output_type": "execute_result"
    }
   ],
   "source": [
    "topic5[-700:].sum()*100/topic5.sum()"
   ]
  },
  {
   "cell_type": "code",
   "execution_count": 96,
   "metadata": {
    "ExecuteTime": {
     "end_time": "2019-08-22T19:33:26.259259Z",
     "start_time": "2019-08-22T19:33:26.253540Z"
    }
   },
   "outputs": [
    {
     "data": {
      "text/plain": [
       "array([0.08333379, 0.08333333, 0.08333425, ..., 0.08333333, 0.08333333,\n",
       "       0.08333333])"
      ]
     },
     "execution_count": 96,
     "metadata": {},
     "output_type": "execute_result"
    }
   ],
   "source": [
    "lda.components_[5]"
   ]
  },
  {
   "cell_type": "markdown",
   "metadata": {},
   "source": [
    "##### Words relevant to main topic"
   ]
  },
  {
   "cell_type": "code",
   "execution_count": 105,
   "metadata": {
    "ExecuteTime": {
     "end_time": "2019-08-22T19:38:04.908485Z",
     "start_time": "2019-08-22T19:38:04.892567Z"
    }
   },
   "outputs": [],
   "source": [
    "topic_words = [words[i] for i in lda.components_[5].argsort()[-700:]]"
   ]
  },
  {
   "cell_type": "markdown",
   "metadata": {},
   "source": [
    "###### get Word2Vec representation for each words"
   ]
  },
  {
   "cell_type": "code",
   "execution_count": 110,
   "metadata": {
    "ExecuteTime": {
     "end_time": "2019-08-22T19:40:07.009159Z",
     "start_time": "2019-08-22T19:40:07.000955Z"
    }
   },
   "outputs": [],
   "source": [
    "mat = []\n",
    "words = []\n",
    "for i in topic_words:\n",
    "    vec = np.zeros(300)\n",
    "    try:\n",
    "        vec = w2v_model[i]\n",
    "        words.append(i)\n",
    "        mat.append(vec)\n",
    "    except:\n",
    "        mat.append(vec)\n",
    "    "
   ]
  },
  {
   "cell_type": "markdown",
   "metadata": {
    "ExecuteTime": {
     "end_time": "2019-08-22T19:40:23.763108Z",
     "start_time": "2019-08-22T19:40:23.165506Z"
    }
   },
   "source": [
    "###### Fit KMeans clustering on the words"
   ]
  },
  {
   "cell_type": "code",
   "execution_count": 113,
   "metadata": {
    "ExecuteTime": {
     "end_time": "2019-08-22T19:40:33.572218Z",
     "start_time": "2019-08-22T19:40:33.565869Z"
    }
   },
   "outputs": [],
   "source": [
    "km = KMeans(n_clusters=3)"
   ]
  },
  {
   "cell_type": "code",
   "execution_count": 114,
   "metadata": {
    "ExecuteTime": {
     "end_time": "2019-08-22T19:40:43.645284Z",
     "start_time": "2019-08-22T19:40:43.114591Z"
    }
   },
   "outputs": [
    {
     "data": {
      "text/plain": [
       "KMeans(algorithm='auto', copy_x=True, init='k-means++', max_iter=300,\n",
       "       n_clusters=3, n_init=10, n_jobs=None, precompute_distances='auto',\n",
       "       random_state=None, tol=0.0001, verbose=0)"
      ]
     },
     "execution_count": 114,
     "metadata": {},
     "output_type": "execute_result"
    }
   ],
   "source": [
    "km.fit(mat)"
   ]
  },
  {
   "cell_type": "code",
   "execution_count": 115,
   "metadata": {
    "ExecuteTime": {
     "end_time": "2019-08-22T19:41:04.343408Z",
     "start_time": "2019-08-22T19:41:04.336842Z"
    }
   },
   "outputs": [],
   "source": [
    "pred = km.predict(mat)"
   ]
  },
  {
   "cell_type": "code",
   "execution_count": 121,
   "metadata": {
    "ExecuteTime": {
     "end_time": "2019-08-22T19:45:08.132225Z",
     "start_time": "2019-08-22T19:45:08.125348Z"
    }
   },
   "outputs": [],
   "source": [
    "score = km.transform(mat)"
   ]
  },
  {
   "cell_type": "markdown",
   "metadata": {},
   "source": [
    "##### Sub topics"
   ]
  },
  {
   "cell_type": "markdown",
   "metadata": {},
   "source": [
    "###### Sub Topic 1 in Topic 5"
   ]
  },
  {
   "cell_type": "code",
   "execution_count": 139,
   "metadata": {
    "ExecuteTime": {
     "end_time": "2019-08-22T19:51:40.053009Z",
     "start_time": "2019-08-22T19:51:40.046391Z"
    }
   },
   "outputs": [
    {
     "data": {
      "text/plain": [
       "array(['princeton', 'bellevue', 'christie', 'alberta', 'duncan', 'emory',\n",
       "       'er', 'hhs', 'cbc', 'thats'], dtype='<U14')"
      ]
     },
     "execution_count": 139,
     "metadata": {},
     "output_type": "execute_result"
    }
   ],
   "source": [
    "np.array(topic_words)[score[:,0].argsort()[:10]]"
   ]
  },
  {
   "cell_type": "markdown",
   "metadata": {},
   "source": [
    "###### Sub Topic 2 in Topic 5"
   ]
  },
  {
   "cell_type": "code",
   "execution_count": 140,
   "metadata": {
    "ExecuteTime": {
     "end_time": "2019-08-22T19:51:50.589235Z",
     "start_time": "2019-08-22T19:51:50.583003Z"
    }
   },
   "outputs": [
    {
     "data": {
      "text/plain": [
       "array(['100', 'cuomo', 'burwell', 'jennyagold', 'adriearsenault',\n",
       "       'vinson', '2014', 'sebelius', 'ptsd', 'gilead'], dtype='<U14')"
      ]
     },
     "execution_count": 140,
     "metadata": {},
     "output_type": "execute_result"
    }
   ],
   "source": [
    "np.array(topic_words)[score[:,1].argsort()[:10]]"
   ]
  },
  {
   "cell_type": "markdown",
   "metadata": {},
   "source": [
    "###### Sub Topic 3 in Topic 5"
   ]
  },
  {
   "cell_type": "code",
   "execution_count": 146,
   "metadata": {
    "ExecuteTime": {
     "end_time": "2019-08-22T19:53:21.519212Z",
     "start_time": "2019-08-22T19:53:21.514144Z"
    }
   },
   "outputs": [
    {
     "data": {
      "text/plain": [
       "array(['100', 'labour', 'cuomo', 'bcsolomon', 'didnt', '14',\n",
       "       'reuterslive', 'jrovner', 'alvinhtran', 'endoflife'], dtype='<U14')"
      ]
     },
     "execution_count": 146,
     "metadata": {},
     "output_type": "execute_result"
    }
   ],
   "source": [
    "np.array(topic_words)[score[:,2].argsort()[:10]]"
   ]
  },
  {
   "cell_type": "code",
   "execution_count": null,
   "metadata": {},
   "outputs": [],
   "source": []
  },
  {
   "cell_type": "markdown",
   "metadata": {
    "ExecuteTime": {
     "end_time": "2019-08-22T19:55:06.365363Z",
     "start_time": "2019-08-22T19:55:06.360042Z"
    }
   },
   "source": [
    "***Note*** : Obviously the sub topics are not so intuitive. May be one needs to deep dive into this approach to understand pros and cons"
   ]
  },
  {
   "cell_type": "markdown",
   "metadata": {},
   "source": [
    "**Approach walkthrough**:"
   ]
  },
  {
   "cell_type": "markdown",
   "metadata": {
    "ExecuteTime": {
     "end_time": "2019-08-22T19:58:07.018501Z",
     "start_time": "2019-08-22T19:58:07.013162Z"
    }
   },
   "source": [
    "1. For a specific Main topic, pick top N words\n",
    "\n",
    "2. Get word embedding for these top N words\n",
    "\n",
    "3. Using Kmeans cluster the words : It will give similar words in a group\n",
    "\n",
    "4. To get the top words: get the words which are closer to the centroid"
   ]
  },
  {
   "cell_type": "markdown",
   "metadata": {
    "ExecuteTime": {
     "end_time": "2019-08-22T20:00:08.820915Z",
     "start_time": "2019-08-22T20:00:08.815350Z"
    }
   },
   "source": [
    "**Next steps**:\n",
    "    1. While getting the top words in sub-topic, try to incorporate the weight obtained in LDA"
   ]
  }
 ],
 "metadata": {
  "kernelspec": {
   "display_name": "Python 3",
   "language": "python",
   "name": "python3"
  },
  "language_info": {
   "codemirror_mode": {
    "name": "ipython",
    "version": 3
   },
   "file_extension": ".py",
   "mimetype": "text/x-python",
   "name": "python",
   "nbconvert_exporter": "python",
   "pygments_lexer": "ipython3",
   "version": "3.7.3"
  },
  "toc": {
   "base_numbering": 1,
   "nav_menu": {},
   "number_sections": true,
   "sideBar": true,
   "skip_h1_title": false,
   "title_cell": "Table of Contents",
   "title_sidebar": "Contents",
   "toc_cell": false,
   "toc_position": {},
   "toc_section_display": true,
   "toc_window_display": false
  }
 },
 "nbformat": 4,
 "nbformat_minor": 2
}
