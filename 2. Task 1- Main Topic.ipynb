{
 "cells": [
  {
   "cell_type": "code",
   "execution_count": 1,
   "metadata": {
    "ExecuteTime": {
     "end_time": "2019-08-22T17:47:21.633236Z",
     "start_time": "2019-08-22T17:47:11.019605Z"
    }
   },
   "outputs": [],
   "source": [
    "import pandas as pd\n",
    "import gc\n",
    "import os\n",
    "import gensim\n",
    "\n",
    "from platform import python_version\n",
    "print(python_version())"
   ]
  },
  {
   "cell_type": "code",
   "execution_count": null,
   "metadata": {},
   "outputs": [],
   "source": [
    "data = joblib.load('../data/cleaned_data')"
   ]
  },
  {
   "cell_type": "markdown",
   "metadata": {},
   "source": [
    "#### Topic Modeling"
   ]
  },
  {
   "cell_type": "code",
   "execution_count": 27,
   "metadata": {
    "ExecuteTime": {
     "end_time": "2019-08-22T13:17:42.549229Z",
     "start_time": "2019-08-22T13:17:42.544886Z"
    }
   },
   "outputs": [],
   "source": [
    "from sklearn.feature_extraction.text import CountVectorizer\n",
    "\n",
    "from sklearn.decomposition import LatentDirichletAllocation as LDA\n",
    "\n",
    "from gensim.models import CoherenceModel\n",
    "import gensim.corpora as corpora"
   ]
  },
  {
   "cell_type": "code",
   "execution_count": 45,
   "metadata": {
    "ExecuteTime": {
     "end_time": "2019-08-22T18:09:54.164976Z",
     "start_time": "2019-08-22T18:09:52.803721Z"
    }
   },
   "outputs": [],
   "source": [
    "id2word = corpora.Dictionary(data.new_text)"
   ]
  },
  {
   "cell_type": "code",
   "execution_count": 46,
   "metadata": {
    "ExecuteTime": {
     "end_time": "2019-08-22T18:09:55.284160Z",
     "start_time": "2019-08-22T18:09:54.169072Z"
    }
   },
   "outputs": [],
   "source": [
    "corpus = [id2word.doc2bow(text) for text in data.new_text]"
   ]
  },
  {
   "cell_type": "code",
   "execution_count": null,
   "metadata": {},
   "outputs": [],
   "source": []
  },
  {
   "cell_type": "code",
   "execution_count": 47,
   "metadata": {
    "ExecuteTime": {
     "end_time": "2019-08-22T18:12:03.762942Z",
     "start_time": "2019-08-22T18:09:55.288286Z"
    }
   },
   "outputs": [],
   "source": [
    "lda_model = gensim.models.ldamodel.LdaModel(corpus=corpus,\n",
    "                                           id2word=id2word,\n",
    "                                           num_topics=10, \n",
    "                                           random_state=21,\n",
    "                                           chunksize=100,\n",
    "                                           passes=2,\n",
    "                                           alpha='auto')"
   ]
  },
  {
   "cell_type": "code",
   "execution_count": 48,
   "metadata": {
    "ExecuteTime": {
     "end_time": "2019-08-22T18:12:26.268319Z",
     "start_time": "2019-08-22T18:12:26.262481Z"
    }
   },
   "outputs": [],
   "source": [
    "from pprint import pprint"
   ]
  },
  {
   "cell_type": "code",
   "execution_count": 49,
   "metadata": {
    "ExecuteTime": {
     "end_time": "2019-08-22T18:12:34.139171Z",
     "start_time": "2019-08-22T18:12:34.040307Z"
    }
   },
   "outputs": [
    {
     "name": "stdout",
     "output_type": "stream",
     "text": [
      "[(0,\n",
      "  '0.083*\"dont\" + 0.070*\"miss\" + 0.067*\"week\" + '\n",
      "  '0.067*\"viewsfromthenhsfrontline\" + 0.064*\"staff\" + 0.047*\"read\" + '\n",
      "  '0.025*\"member\" + 0.023*\"might\" + 0.018*\"mention\" + 0.018*\"enough\"'),\n",
      " (1,\n",
      "  '0.128*\"mental\" + 0.087*\"social\" + 0.057*\"community\" + 0.048*\"sign\" + '\n",
      "  '0.047*\"problem\" + 0.037*\"linked\" + 0.027*\"surgery\" + 0.021*\"tackle\" + '\n",
      "  '0.021*\"tell\" + 0.019*\"alcohol\"'),\n",
      " (2,\n",
      "  '0.048*\"say\" + 0.046*\"today\" + 0.026*\"aampe\" + 0.025*\"case\" + '\n",
      "  '0.024*\"network\" + 0.018*\"crisis\" + 0.017*\"go\" + 0.016*\"public\" + '\n",
      "  '0.015*\"kid\" + 0.014*\"ebola\"'),\n",
      " (3,\n",
      "  '0.088*\"patient\" + 0.039*\"doctor\" + 0.036*\"get\" + 0.036*\"like\" + 0.034*\"–\" + '\n",
      "  '0.025*\"make\" + 0.018*\"see\" + 0.018*\"christmas\" + 0.017*\"…\" + 0.016*\"love\"'),\n",
      " (4,\n",
      "  '0.102*\"new\" + 0.072*\"study\" + 0.043*\"life\" + 0.035*\"woman\" + 0.033*\"job\" + '\n",
      "  '0.031*\"find\" + 0.028*\"report\" + 0.027*\"nurse\" + 0.025*\"could\" + '\n",
      "  '0.024*\"mentalhealth\"'),\n",
      " (5,\n",
      "  '0.057*\"’\" + 0.049*\"via\" + 0.029*\"working\" + 0.028*\"one\" + 0.027*\"good\" + '\n",
      "  '0.024*\"view\" + 0.023*\"change\" + 0.021*\"amp\" + 0.020*\"would\" + '\n",
      "  '0.016*\"gdnhealthcare\"'),\n",
      " (6,\n",
      "  '0.063*\"u\" + 0.053*\"free\" + 0.038*\"system\" + 0.027*\"death\" + 0.025*\"drug\" + '\n",
      "  '0.024*\"take\" + 0.023*\"must\" + 0.021*\"online\" + 0.020*\"let\" + 0.019*\"data\"'),\n",
      " (7,\n",
      "  '0.231*\"nh\" + 0.069*\"health\" + 0.050*\"healthcare\" + 0.047*\"care\" + '\n",
      "  '0.030*\"gdnhealthcare\" + 0.023*\"people\" + 0.018*\"day\" + 0.017*\"missed\" + '\n",
      "  '0.015*\"popular\" + 0.014*\"want\"'),\n",
      " (8,\n",
      "  '0.071*\"may\" + 0.056*\"cancer\" + 0.051*\"year\" + 0.049*\"risk\" + 0.030*\"join\" + '\n",
      "  '0.028*\"work\" + 0.027*\"future\" + 0.027*\"heart\" + 0.019*\"pressure\" + '\n",
      "  '0.018*\"diabetes\"'),\n",
      " (9,\n",
      "  '0.061*\"need\" + 0.048*\"hospital\" + 0.035*\"help\" + 0.032*\"service\" + '\n",
      "  '0.031*\"time\" + 0.024*\"five\" + 0.018*\"many\" + 0.018*\"great\" + '\n",
      "  '0.016*\"yesterday\" + 0.014*\"nursing\"')]\n"
     ]
    }
   ],
   "source": [
    "pprint(lda_model.print_topics())\n",
    "doc_lda = lda_model[corpus]"
   ]
  },
  {
   "cell_type": "code",
   "execution_count": 55,
   "metadata": {
    "ExecuteTime": {
     "end_time": "2019-08-22T18:15:27.400782Z",
     "start_time": "2019-08-22T18:15:27.394680Z"
    }
   },
   "outputs": [],
   "source": [
    "coh_model_lda = CoherenceModel(model=lda_model, texts=data.new_text, dictionary=id2word, coherence='c_v')"
   ]
  },
  {
   "cell_type": "code",
   "execution_count": 56,
   "metadata": {
    "ExecuteTime": {
     "end_time": "2019-08-22T18:15:44.166289Z",
     "start_time": "2019-08-22T18:15:38.168939Z"
    }
   },
   "outputs": [
    {
     "data": {
      "text/plain": [
       "0.3074013410004034"
      ]
     },
     "execution_count": 56,
     "metadata": {},
     "output_type": "execute_result"
    }
   ],
   "source": [
    "coh_model_lda.get_coherence()"
   ]
  },
  {
   "cell_type": "markdown",
   "metadata": {},
   "source": [
    "##### Grid Search on number of topics to get optimal number"
   ]
  },
  {
   "cell_type": "code",
   "execution_count": 59,
   "metadata": {
    "ExecuteTime": {
     "end_time": "2019-08-22T18:17:25.821406Z",
     "start_time": "2019-08-22T18:17:25.814950Z"
    }
   },
   "outputs": [],
   "source": [
    "num_topics = range(6, 15)"
   ]
  },
  {
   "cell_type": "code",
   "execution_count": 65,
   "metadata": {
    "ExecuteTime": {
     "end_time": "2019-08-22T18:46:56.757109Z",
     "start_time": "2019-08-22T18:24:24.097909Z"
    }
   },
   "outputs": [
    {
     "name": "stdout",
     "output_type": "stream",
     "text": [
      "Topic Modeling using 6 Topics\n",
      "coherence score is 0.26277051702441523\n",
      "Topic Modeling using 7 Topics\n",
      "coherence score is 0.28527480721341975\n",
      "Topic Modeling using 8 Topics\n",
      "coherence score is 0.3048739050662722\n",
      "Topic Modeling using 9 Topics\n",
      "coherence score is 0.31658622737923936\n",
      "Topic Modeling using 10 Topics\n",
      "coherence score is 0.3074013410004034\n",
      "Topic Modeling using 11 Topics\n",
      "coherence score is 0.3249915413161666\n",
      "Topic Modeling using 12 Topics\n",
      "coherence score is 0.35607307751179595\n",
      "Topic Modeling using 13 Topics\n",
      "coherence score is 0.33309490784515156\n",
      "Topic Modeling using 14 Topics\n",
      "coherence score is 0.33502345938000166\n"
     ]
    }
   ],
   "source": [
    "best_coh_score = 0\n",
    "for n in num_topics:\n",
    "    print('Topic Modeling using {} Topics'.format(n))\n",
    "    lda_model = gensim.models.ldamodel.LdaModel(corpus=corpus,\n",
    "                                           id2word=id2word,\n",
    "                                           num_topics= n, \n",
    "                                           random_state=21,\n",
    "                                           chunksize=100,\n",
    "                                           passes=2,\n",
    "                                           alpha='auto')\n",
    "    coh_model_lda = CoherenceModel(model=lda_model, \n",
    "                                   texts=data.new_text, \n",
    "                                   dictionary=id2word)\n",
    "    coh_score = coh_model_lda.get_coherence()\n",
    "    print('coherence score is {}'.format(coh_score))\n",
    "    \n",
    "    if coh_score > best_coh_score:\n",
    "        best_coh_score = coh_score"
   ]
  },
  {
   "cell_type": "markdown",
   "metadata": {},
   "source": [
    "***Based on Coherence score 12 is the best number of topics***"
   ]
  },
  {
   "cell_type": "code",
   "execution_count": null,
   "metadata": {},
   "outputs": [],
   "source": []
  },
  {
   "cell_type": "markdown",
   "metadata": {},
   "source": [
    "##### Some of the example topics"
   ]
  },
  {
   "cell_type": "code",
   "execution_count": 62,
   "metadata": {
    "ExecuteTime": {
     "end_time": "2019-08-22T13:55:55.124368Z",
     "start_time": "2019-08-22T13:55:55.008982Z"
    }
   },
   "outputs": [
    {
     "name": "stdout",
     "output_type": "stream",
     "text": [
      "\n",
      "Topic #0:\n",
      "new age smoke old year today blog suicid case cartoon\n",
      "\n",
      "Topic #1:\n",
      "ebola outbreak say vaccin case flu death africa cdc liberia\n",
      "\n",
      "Topic #2:\n",
      "drug diabet surgeri pay studi new help approv win fda\n",
      "\n",
      "Topic #3:\n",
      "thi healthi tri goodhealth recip day cynthiasass eat make amp\n",
      "\n",
      "Topic #4:\n",
      "nh today join healthtalk doctor patient miss thi work amp\n",
      "\n",
      "Topic #5:\n",
      "studi say kid risk doctor use drug teen parent cancer\n",
      "\n",
      "Topic #6:\n",
      "health insur care law report obamacar plan mental state rate\n",
      "\n",
      "Topic #7:\n",
      "weight diet food way make whi drink lose studi help\n",
      "\n",
      "Topic #8:\n",
      "cancer women studi heart babi risk breast new men nh\n",
      "\n",
      "Topic #9:\n",
      "hospit ebola patient new stori medic cell wa help citi\n"
     ]
    }
   ],
   "source": [
    "print_topics(lda, count_vec, 10)"
   ]
  },
  {
   "cell_type": "code",
   "execution_count": 38,
   "metadata": {
    "ExecuteTime": {
     "end_time": "2019-08-22T13:26:30.903495Z",
     "start_time": "2019-08-22T13:26:30.792307Z"
    }
   },
   "outputs": [
    {
     "name": "stdout",
     "output_type": "stream",
     "text": [
      "\n",
      "Topic #0:\n",
      "cancer study risk heart disease women help kids breast says\n",
      "\n",
      "Topic #1:\n",
      "goodhealth work fitness workout weight ways like cynthiasass food exercise\n",
      "\n",
      "Topic #2:\n",
      "sierra new leone free diabetes nursing 0000 ebola measles california\n",
      "\n",
      "Topic #3:\n",
      "ebola says flu patient outbreak cdc virus hospital vaccine new\n",
      "\n",
      "Topic #4:\n",
      "health nhs care insurance law obamacare mental new healthcare todays\n",
      "\n",
      "Topic #5:\n",
      "healthy day recipes amp try pharmalot good morning recipe pharma\n",
      "\n",
      "Topic #6:\n",
      "doctors medical patients medicare care nhs hospitals stefaniei health marijuana\n",
      "\n",
      "Topic #7:\n",
      "healthtalk diet know make join today things does dont weight\n",
      "\n",
      "Topic #8:\n",
      "drug study fda new finds blood risk cancer use drugs\n",
      "\n",
      "Topic #9:\n",
      "new age old cynthiasass goodhealth medicaid blog amp people food\n"
     ]
    }
   ],
   "source": [
    "print_topics(lda, count_vec, 10)"
   ]
  },
  {
   "cell_type": "code",
   "execution_count": null,
   "metadata": {},
   "outputs": [],
   "source": []
  },
  {
   "cell_type": "code",
   "execution_count": null,
   "metadata": {
    "collapsed": true
   },
   "outputs": [],
   "source": []
  }
 ],
 "metadata": {
  "kernelspec": {
   "display_name": "Python 3",
   "language": "python",
   "name": "python3"
  },
  "language_info": {
   "codemirror_mode": {
    "name": "ipython",
    "version": 3
   },
   "file_extension": ".py",
   "mimetype": "text/x-python",
   "name": "python",
   "nbconvert_exporter": "python",
   "pygments_lexer": "ipython3",
   "version": "3.7.3"
  },
  "toc": {
   "base_numbering": 1,
   "nav_menu": {},
   "number_sections": true,
   "sideBar": true,
   "skip_h1_title": false,
   "title_cell": "Table of Contents",
   "title_sidebar": "Contents",
   "toc_cell": false,
   "toc_position": {},
   "toc_section_display": true,
   "toc_window_display": false
  }
 },
 "nbformat": 4,
 "nbformat_minor": 2
}
